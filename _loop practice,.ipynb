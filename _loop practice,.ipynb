{
 "cells": [
  {
   "cell_type": "code",
   "execution_count": 1,
   "id": "ec552d4d-cb0d-44e9-bb48-ca27f8aa3d68",
   "metadata": {},
   "outputs": [
    {
     "name": "stdin",
     "output_type": "stream",
     "text": [
      "enter the marks 45\n"
     ]
    },
    {
     "name": "stdout",
     "output_type": "stream",
     "text": [
      "you will get into a A3 batch \n"
     ]
    }
   ],
   "source": [
    "marks=int(input(\"enter the marks\"))\n",
    "if marks >=80:\n",
    "    print(\"you will get into a A1 batch\")\n",
    "elif marks >=60 and marks <80:\n",
    "    print(\"you will get into a A2 batch\")\n",
    "elif marks >=40 and marks <60:\n",
    "    print(\"you will get into a A3 batch \")\n",
    "else:\n",
    "    print(\"you will get into a A4 batch\")\n",
    "    "
   ]
  },
  {
   "cell_type": "code",
   "execution_count": 1,
   "id": "23ca49c2-f219-452b-af35-4058bc26ae10",
   "metadata": {},
   "outputs": [
    {
     "name": "stdin",
     "output_type": "stream",
     "text": [
      "enter price 999\n"
     ]
    },
    {
     "name": "stdout",
     "output_type": "stream",
     "text": [
      "i will purchase\n"
     ]
    }
   ],
   "source": [
    "price = int(input(\"enter price\"))\n",
    "if price >1000:\n",
    "    print(\"i will not purchase\")\n",
    "else:\n",
    "    print(\"i will purchase\")"
   ]
  },
  {
   "cell_type": "code",
   "execution_count": 3,
   "id": "ab472d97-2eaf-45a3-945e-00469fd86f87",
   "metadata": {},
   "outputs": [
    {
     "name": "stdin",
     "output_type": "stream",
     "text": [
      "enter price 510000\n"
     ]
    },
    {
     "name": "stdout",
     "output_type": "stream",
     "text": [
      "i will not purchase\n",
      "this is too much\n"
     ]
    }
   ],
   "source": [
    "price = int(input(\"enter price\"))\n",
    "if price >1000:\n",
    "    print(\"i will not purchase\")\n",
    "    if price>50000:\n",
    "        print(\"this is too much\")\n",
    "   "
   ]
  },
  {
   "cell_type": "code",
   "execution_count": 4,
   "id": "3e35e172-7ca6-4125-a7f7-09ba8b8bd79d",
   "metadata": {},
   "outputs": [],
   "source": [
    "l=[1,2,3,4,5,6,7]"
   ]
  },
  {
   "cell_type": "code",
   "execution_count": 6,
   "id": "7ba2c961-3672-4fcc-803f-e073cf8c1faa",
   "metadata": {},
   "outputs": [
    {
     "data": {
      "text/plain": [
       "2"
      ]
     },
     "execution_count": 6,
     "metadata": {},
     "output_type": "execute_result"
    }
   ],
   "source": [
    "l[0]+1"
   ]
  },
  {
   "cell_type": "code",
   "execution_count": 9,
   "id": "24fca9f9-f44f-424f-b332-8dc48310e529",
   "metadata": {},
   "outputs": [],
   "source": [
    "l1=[]"
   ]
  },
  {
   "cell_type": "code",
   "execution_count": 10,
   "id": "3192031b-b759-44e4-be08-11e484a07369",
   "metadata": {},
   "outputs": [],
   "source": [
    "l1.append(l[0]+1)"
   ]
  },
  {
   "cell_type": "code",
   "execution_count": 11,
   "id": "c64c9961-48a6-4fbc-bbdd-cf885042d50e",
   "metadata": {},
   "outputs": [
    {
     "data": {
      "text/plain": [
       "[2]"
      ]
     },
     "execution_count": 11,
     "metadata": {},
     "output_type": "execute_result"
    }
   ],
   "source": [
    "l1"
   ]
  },
  {
   "cell_type": "code",
   "execution_count": 12,
   "id": "00fd5858-af99-43e4-b328-f4d635d55a84",
   "metadata": {},
   "outputs": [
    {
     "data": {
      "text/plain": [
       "[1, 2, 3, 4, 5, 6, 7]"
      ]
     },
     "execution_count": 12,
     "metadata": {},
     "output_type": "execute_result"
    }
   ],
   "source": [
    "l"
   ]
  },
  {
   "cell_type": "code",
   "execution_count": 13,
   "id": "77590365-0d59-43ad-950d-30b881f125fe",
   "metadata": {},
   "outputs": [],
   "source": [
    "l=[1,2,3,4,5,6,7]"
   ]
  },
  {
   "cell_type": "code",
   "execution_count": 18,
   "id": "ea8af671-2a16-45ed-8749-46155b60697f",
   "metadata": {},
   "outputs": [
    {
     "name": "stdout",
     "output_type": "stream",
     "text": [
      "2\n",
      "3\n",
      "4\n",
      "5\n",
      "6\n",
      "7\n",
      "8\n"
     ]
    },
    {
     "data": {
      "text/plain": [
       "[2, 3, 4, 5, 6, 7, 8]"
      ]
     },
     "execution_count": 18,
     "metadata": {},
     "output_type": "execute_result"
    }
   ],
   "source": [
    "l1=[]\n",
    "for r in l:\n",
    "    print(r+1)\n",
    "    l1.append(r+1)\n",
    "l1"
   ]
  },
  {
   "cell_type": "code",
   "execution_count": 10,
   "id": "df7edc1d-b990-4a04-9e65-6965cbcc8e49",
   "metadata": {},
   "outputs": [],
   "source": [
    "l2=[\"raju\",\"raj\",\"insta\",\"facebook\"]"
   ]
  },
  {
   "cell_type": "code",
   "execution_count": 13,
   "id": "771139b1-0f4d-4aff-b8e8-abf29d2fd697",
   "metadata": {},
   "outputs": [
    {
     "name": "stdout",
     "output_type": "stream",
     "text": [
      "raju\n",
      "raj\n",
      "insta\n",
      "facebook\n"
     ]
    }
   ],
   "source": [
    "l3=[]\n",
    "for i in l2:\n",
    "    print(i)\n",
    "    l3.append(i.upper())"
   ]
  },
  {
   "cell_type": "code",
   "execution_count": 15,
   "id": "3cf4953b-f3aa-46fc-9c26-3c89e452fc26",
   "metadata": {},
   "outputs": [
    {
     "data": {
      "text/plain": [
       "['RAJU', 'RAJ', 'INSTA', 'FACEBOOK']"
      ]
     },
     "execution_count": 15,
     "metadata": {},
     "output_type": "execute_result"
    }
   ],
   "source": [
    "l3"
   ]
  },
  {
   "cell_type": "code",
   "execution_count": 17,
   "id": "ecd26576-40bd-415f-b27f-d7f886edba3a",
   "metadata": {},
   "outputs": [],
   "source": [
    "l=[1,12,45,\"raju\",45.89,\"insta\"]"
   ]
  },
  {
   "cell_type": "code",
   "execution_count": 18,
   "id": "61456afd-a6fd-433f-ba68-1bdfc71dbfb2",
   "metadata": {},
   "outputs": [],
   "source": [
    "l1__num=[]\n",
    "l2__str=[]\n",
    "for i in l:\n",
    "    if type(i)==int or type(i)==float:\n",
    "        l1__num.append(i)\n",
    "    else:\n",
    "        l2__str.append(i)\n",
    "        "
   ]
  },
  {
   "cell_type": "code",
   "execution_count": 19,
   "id": "839e4d64-3c88-4969-bdb5-76791a9a2f81",
   "metadata": {},
   "outputs": [
    {
     "data": {
      "text/plain": [
       "['raju', 'insta']"
      ]
     },
     "execution_count": 19,
     "metadata": {},
     "output_type": "execute_result"
    }
   ],
   "source": [
    "l2__str"
   ]
  },
  {
   "cell_type": "code",
   "execution_count": 20,
   "id": "69e5e4a1-4b35-43f0-9c9b-011efc721bd0",
   "metadata": {},
   "outputs": [
    {
     "data": {
      "text/plain": [
       "[1, 12, 45, 45.89]"
      ]
     },
     "execution_count": 20,
     "metadata": {},
     "output_type": "execute_result"
    }
   ],
   "source": [
    "l1__num"
   ]
  },
  {
   "cell_type": "code",
   "execution_count": 1,
   "id": "8469978e-5e26-4fdf-a0fc-054b169f9fb2",
   "metadata": {},
   "outputs": [],
   "source": [
    "m=[1,2,3,4,\"raju\"]"
   ]
  },
  {
   "cell_type": "code",
   "execution_count": 2,
   "id": "5e5fefb6-ec5c-493c-a496-63fcb629eb1c",
   "metadata": {},
   "outputs": [
    {
     "name": "stdout",
     "output_type": "stream",
     "text": [
      "1 <class 'int'>\n",
      "2 <class 'int'>\n",
      "3 <class 'int'>\n",
      "4 <class 'int'>\n",
      "raju <class 'str'>\n"
     ]
    }
   ],
   "source": [
    "for i in m:\n",
    "    print(i,type(i))"
   ]
  },
  {
   "cell_type": "code",
   "execution_count": 3,
   "id": "3dad5c7d-bf85-4fc3-8777-d03c79c74d00",
   "metadata": {},
   "outputs": [],
   "source": [
    "m1=[\"raju\",\"raj\",\"kumar\",]"
   ]
  },
  {
   "cell_type": "code",
   "execution_count": 4,
   "id": "52946c53-cfa1-4d93-b24a-5945eccb545c",
   "metadata": {},
   "outputs": [
    {
     "name": "stdout",
     "output_type": "stream",
     "text": [
      "raju\n",
      "raj\n",
      "kumar\n",
      "hello world\n"
     ]
    }
   ],
   "source": [
    "for i in m1:\n",
    "    print(i)\n",
    "else:\n",
    "    print(\"hello world\")"
   ]
  },
  {
   "cell_type": "code",
   "execution_count": 5,
   "id": "0df2f18c-23cc-40d2-8f94-3701ad0ec084",
   "metadata": {},
   "outputs": [
    {
     "data": {
      "text/plain": [
       "['raju', 'raj', 'kumar']"
      ]
     },
     "execution_count": 5,
     "metadata": {},
     "output_type": "execute_result"
    }
   ],
   "source": [
    "m1"
   ]
  },
  {
   "cell_type": "code",
   "execution_count": 7,
   "id": "93eadb35-e8cc-43a2-baf9-3f4a7354256f",
   "metadata": {},
   "outputs": [
    {
     "name": "stdout",
     "output_type": "stream",
     "text": [
      "raju\n"
     ]
    }
   ],
   "source": [
    "for i in m1:\n",
    "    if i ==\"raj\":\n",
    "        break\n",
    "    print(i)\n",
    "  \n",
    "\n",
    "    \n"
   ]
  },
  {
   "cell_type": "code",
   "execution_count": 8,
   "id": "d4af92c4-bc5f-4625-b6ea-41af3542a0c2",
   "metadata": {},
   "outputs": [
    {
     "data": {
      "text/plain": [
       "['raju', 'raj', 'kumar']"
      ]
     },
     "execution_count": 8,
     "metadata": {},
     "output_type": "execute_result"
    }
   ],
   "source": [
    "m1"
   ]
  },
  {
   "cell_type": "code",
   "execution_count": 2,
   "id": "08b47a3a-1eb4-4230-9f86-96cd63911e1e",
   "metadata": {},
   "outputs": [
    {
     "ename": "NameError",
     "evalue": "name 'm1' is not defined",
     "output_type": "error",
     "traceback": [
      "\u001b[0;31m---------------------------------------------------------------------------\u001b[0m",
      "\u001b[0;31mNameError\u001b[0m                                 Traceback (most recent call last)",
      "Cell \u001b[0;32mIn[2], line 1\u001b[0m\n\u001b[0;32m----> 1\u001b[0m \u001b[38;5;28;01mfor\u001b[39;00m i \u001b[38;5;129;01min\u001b[39;00m \u001b[43mm1\u001b[49m:\n\u001b[1;32m      2\u001b[0m     \u001b[38;5;28;01mif\u001b[39;00m i \u001b[38;5;241m==\u001b[39m\u001b[38;5;124m\"\u001b[39m\u001b[38;5;124mraj\u001b[39m\u001b[38;5;124m\"\u001b[39m:\n\u001b[1;32m      3\u001b[0m         \u001b[38;5;28;01mbreak\u001b[39;00m\n",
      "\u001b[0;31mNameError\u001b[0m: name 'm1' is not defined"
     ]
    }
   ],
   "source": [
    "for i in m1:\n",
    "    if i ==\"raj\":\n",
    "        break\n",
    "    print(i)\n",
    "else:\n",
    "    print(\"something went wrong\")\n",
    "      "
   ]
  },
  {
   "cell_type": "code",
   "execution_count": 3,
   "id": "d46ae084-3e82-46f2-9865-f010ef2fc396",
   "metadata": {},
   "outputs": [],
   "source": [
    "m1=[\"raju\",\"raj\",\"kumar\",]"
   ]
  },
  {
   "cell_type": "code",
   "execution_count": 7,
   "id": "1af2b05b-2bd5-4065-9216-3248b17af7c3",
   "metadata": {},
   "outputs": [
    {
     "name": "stdout",
     "output_type": "stream",
     "text": [
      "raju\n",
      "kumar\n",
      "something went wrong\n"
     ]
    }
   ],
   "source": [
    "for i in m1:\n",
    "    if i ==\"raj\":\n",
    "        continue\n",
    "    print(i)\n",
    "else:\n",
    "    print(\"something went wrong\")"
   ]
  },
  {
   "cell_type": "code",
   "execution_count": 8,
   "id": "4eacd737-bfd2-4b26-a1cb-e64e12cb1f4a",
   "metadata": {},
   "outputs": [
    {
     "data": {
      "text/plain": [
       "['raju', 'raj', 'kumar']"
      ]
     },
     "execution_count": 8,
     "metadata": {},
     "output_type": "execute_result"
    }
   ],
   "source": [
    "m1"
   ]
  },
  {
   "cell_type": "code",
   "execution_count": 12,
   "id": "fda35bad-1bfb-4c25-a523-8262f2da741d",
   "metadata": {},
   "outputs": [
    {
     "ename": "IndentationError",
     "evalue": "expected an indented block after 'if' statement on line 2 (1820020790.py, line 3)",
     "output_type": "error",
     "traceback": [
      "\u001b[0;36m  Cell \u001b[0;32mIn[12], line 3\u001b[0;36m\u001b[0m\n\u001b[0;31m    continue\u001b[0m\n\u001b[0m    ^\u001b[0m\n\u001b[0;31mIndentationError\u001b[0m\u001b[0;31m:\u001b[0m expected an indented block after 'if' statement on line 2\n"
     ]
    }
   ],
   "source": [
    "for i in m1:\n",
    "    if i ==\"raj\":\n",
    "    continue\n",
    "    print(i)"
   ]
  },
  {
   "cell_type": "code",
   "execution_count": 13,
   "id": "39769434-0393-4167-a0cd-3111dfed97d3",
   "metadata": {},
   "outputs": [],
   "source": [
    "m2=[\"rajh\",\"ram\",\"rohit\",\"ramu\"]"
   ]
  },
  {
   "cell_type": "code",
   "execution_count": 14,
   "id": "d49e9f29-2b9e-4045-a7fe-e4500ae3b2fb",
   "metadata": {},
   "outputs": [
    {
     "name": "stdout",
     "output_type": "stream",
     "text": [
      "rajh\n",
      "ram\n",
      "ramu\n"
     ]
    }
   ],
   "source": [
    "for i in m2:\n",
    "    if i ==\"rohit\":\n",
    "        continue\n",
    "    print(i)"
   ]
  },
  {
   "cell_type": "code",
   "execution_count": 15,
   "id": "ad5d15f7-95c4-4a03-8235-8d5b8f1ce920",
   "metadata": {},
   "outputs": [
    {
     "name": "stdout",
     "output_type": "stream",
     "text": [
      "ram\n",
      "rohit\n",
      "ramu\n"
     ]
    }
   ],
   "source": [
    "for i in m2:\n",
    "    if i ==\"rajh\":\n",
    "        continue\n",
    "    print(i)"
   ]
  },
  {
   "cell_type": "code",
   "execution_count": 16,
   "id": "5d316538-d32b-4916-a4f4-58db20113d45",
   "metadata": {},
   "outputs": [
    {
     "name": "stdout",
     "output_type": "stream",
     "text": [
      "rajh\n",
      "rohit\n",
      "ramu\n",
      "hello dear\n"
     ]
    }
   ],
   "source": [
    "for i in m2:\n",
    "    if i ==\"ram\":\n",
    "        continue\n",
    "    print(i)\n",
    "else:\n",
    "    print(\"hello dear\")"
   ]
  },
  {
   "cell_type": "code",
   "execution_count": 18,
   "id": "74cc7ae8-e4f6-4bda-9029-5464cff27fee",
   "metadata": {},
   "outputs": [
    {
     "data": {
      "text/plain": [
       "range(0, 7)"
      ]
     },
     "execution_count": 18,
     "metadata": {},
     "output_type": "execute_result"
    }
   ],
   "source": [
    "range(7)"
   ]
  },
  {
   "cell_type": "code",
   "execution_count": 19,
   "id": "aa55b009-bcd9-4082-a055-80deaaf06efd",
   "metadata": {},
   "outputs": [
    {
     "data": {
      "text/plain": [
       "[0, 1, 2, 3, 4, 5, 6]"
      ]
     },
     "execution_count": 19,
     "metadata": {},
     "output_type": "execute_result"
    }
   ],
   "source": [
    "list(range(7))"
   ]
  },
  {
   "cell_type": "code",
   "execution_count": 20,
   "id": "cbf5a8d1-667a-4fe2-84b1-ec4546c23fad",
   "metadata": {},
   "outputs": [
    {
     "data": {
      "text/plain": [
       "[0, 2, 4, 6]"
      ]
     },
     "execution_count": 20,
     "metadata": {},
     "output_type": "execute_result"
    }
   ],
   "source": [
    "list(range(0,8,2))"
   ]
  },
  {
   "cell_type": "code",
   "execution_count": 21,
   "id": "8ec02d10-49bb-444a-a8c8-6ca48d75b7ec",
   "metadata": {},
   "outputs": [
    {
     "data": {
      "text/plain": [
       "(0, 2, 4, 6)"
      ]
     },
     "execution_count": 21,
     "metadata": {},
     "output_type": "execute_result"
    }
   ],
   "source": [
    "tuple(range(0,8,2))"
   ]
  },
  {
   "cell_type": "code",
   "execution_count": 22,
   "id": "98ffd773-c529-4842-b072-4f5a14f2b32a",
   "metadata": {},
   "outputs": [
    {
     "data": {
      "text/plain": [
       "[-14, -11, -8, -5, -2, 1, 4, 7, 10, 13, 16, 19, 22, 25, 28, 31, 34, 37, 40, 43]"
      ]
     },
     "execution_count": 22,
     "metadata": {},
     "output_type": "execute_result"
    }
   ],
   "source": [
    "list(range(-14,45,3))"
   ]
  },
  {
   "cell_type": "code",
   "execution_count": 23,
   "id": "7e48505d-491d-4f91-89c0-1fb76546efde",
   "metadata": {},
   "outputs": [
    {
     "data": {
      "text/plain": [
       "['rajh', 'ram', 'rohit', 'ramu']"
      ]
     },
     "execution_count": 23,
     "metadata": {},
     "output_type": "execute_result"
    }
   ],
   "source": [
    "m2"
   ]
  },
  {
   "cell_type": "code",
   "execution_count": 24,
   "id": "d1fc1cc4-831b-4644-96a2-0e756f19d726",
   "metadata": {},
   "outputs": [
    {
     "ename": "TypeError",
     "evalue": "'list' object is not callable",
     "output_type": "error",
     "traceback": [
      "\u001b[0;31m---------------------------------------------------------------------------\u001b[0m",
      "\u001b[0;31mTypeError\u001b[0m                                 Traceback (most recent call last)",
      "Cell \u001b[0;32mIn[24], line 1\u001b[0m\n\u001b[0;32m----> 1\u001b[0m \u001b[43mm2\u001b[49m\u001b[43m(\u001b[49m\u001b[38;5;28;43mrange\u001b[39;49m\u001b[43m(\u001b[49m\u001b[38;5;241;43m-\u001b[39;49m\u001b[38;5;241;43m1\u001b[39;49m\u001b[43m)\u001b[49m\u001b[43m)\u001b[49m\n",
      "\u001b[0;31mTypeError\u001b[0m: 'list' object is not callable"
     ]
    }
   ],
   "source": [
    "m2(range(-1))"
   ]
  },
  {
   "cell_type": "code",
   "execution_count": 1,
   "id": "1366db53-cada-4c5d-9874-8dad749d14c5",
   "metadata": {},
   "outputs": [],
   "source": [
    "m2=['rajh', 'ram', 'rohit', 'ramu']"
   ]
  },
  {
   "cell_type": "code",
   "execution_count": 2,
   "id": "ce5964c0-a3ce-463d-9c73-00e85901821c",
   "metadata": {},
   "outputs": [
    {
     "data": {
      "text/plain": [
       "4"
      ]
     },
     "execution_count": 2,
     "metadata": {},
     "output_type": "execute_result"
    }
   ],
   "source": [
    "len(m2)"
   ]
  },
  {
   "cell_type": "code",
   "execution_count": 3,
   "id": "36ef57ee-f400-4311-9801-403f50bf67f6",
   "metadata": {},
   "outputs": [
    {
     "data": {
      "text/plain": [
       "[0, 1, 2, 3]"
      ]
     },
     "execution_count": 3,
     "metadata": {},
     "output_type": "execute_result"
    }
   ],
   "source": [
    "list(range(len(m2)))"
   ]
  },
  {
   "cell_type": "code",
   "execution_count": 4,
   "id": "45e6d0a9-b6c0-42e5-b4bf-63aa7dcd8d7f",
   "metadata": {},
   "outputs": [
    {
     "name": "stdout",
     "output_type": "stream",
     "text": [
      "rajh\n",
      "ram\n",
      "rohit\n",
      "ramu\n"
     ]
    }
   ],
   "source": [
    "for i in range(len(m2)):\n",
    "    print(m2[i])\n"
   ]
  },
  {
   "cell_type": "code",
   "execution_count": 5,
   "id": "359d6687-b035-4012-a777-571d2eb666ff",
   "metadata": {},
   "outputs": [
    {
     "data": {
      "text/plain": [
       "['rajh', 'ram', 'rohit', 'ramu']"
      ]
     },
     "execution_count": 5,
     "metadata": {},
     "output_type": "execute_result"
    }
   ],
   "source": [
    "m2"
   ]
  },
  {
   "cell_type": "code",
   "execution_count": 8,
   "id": "6923ac55-2b43-4560-9f03-d4339a22ca44",
   "metadata": {},
   "outputs": [
    {
     "data": {
      "text/plain": [
       "4"
      ]
     },
     "execution_count": 8,
     "metadata": {},
     "output_type": "execute_result"
    }
   ],
   "source": [
    "len(m2)"
   ]
  },
  {
   "cell_type": "code",
   "execution_count": 7,
   "id": "0ddbdfb0-dc73-46b1-884b-149f4eb66366",
   "metadata": {},
   "outputs": [
    {
     "data": {
      "text/plain": [
       "[3, 2, 1, 0]"
      ]
     },
     "execution_count": 7,
     "metadata": {},
     "output_type": "execute_result"
    }
   ],
   "source": [
    "list(range(len(m2)-1,-1,-1))"
   ]
  },
  {
   "cell_type": "code",
   "execution_count": 12,
   "id": "3a1079b1-a4ed-464c-9619-d5adf3e638b2",
   "metadata": {},
   "outputs": [
    {
     "name": "stdout",
     "output_type": "stream",
     "text": [
      "ramu\n",
      "rohit\n",
      "ram\n",
      "rajh\n"
     ]
    }
   ],
   "source": [
    "for i in list(range(len(m2)-1,-1,-1)):\n",
    "    print(m2[i])"
   ]
  },
  {
   "cell_type": "code",
   "execution_count": 13,
   "id": "20b36353-cda0-4510-92c2-ae37292294c2",
   "metadata": {},
   "outputs": [],
   "source": [
    "m3=[12,12,5,124,51,252,15215252,5252152,21254,235456,24632666,1,2,3,45,6,]"
   ]
  },
  {
   "cell_type": "code",
   "execution_count": 14,
   "id": "40b428b2-72a0-4247-af64-6d3215ae9881",
   "metadata": {},
   "outputs": [
    {
     "data": {
      "text/plain": [
       "16"
      ]
     },
     "execution_count": 14,
     "metadata": {},
     "output_type": "execute_result"
    }
   ],
   "source": [
    "len(m3)"
   ]
  },
  {
   "cell_type": "code",
   "execution_count": 20,
   "id": "1acc3911-2d7d-4540-9d0b-0e64e2f7d30f",
   "metadata": {},
   "outputs": [
    {
     "data": {
      "text/plain": [
       "[0, 2, 4, 6, 8, 10, 12, 14]"
      ]
     },
     "execution_count": 20,
     "metadata": {},
     "output_type": "execute_result"
    }
   ],
   "source": [
    "list(range(0,len(m3),2))"
   ]
  },
  {
   "cell_type": "code",
   "execution_count": 21,
   "id": "3b9aa326-9279-48dd-b240-d73bfedbbabd",
   "metadata": {},
   "outputs": [
    {
     "name": "stdout",
     "output_type": "stream",
     "text": [
      "12\n",
      "5\n",
      "51\n",
      "15215252\n",
      "21254\n",
      "24632666\n",
      "2\n",
      "45\n"
     ]
    }
   ],
   "source": [
    "for i in list(range(0,len(m3),2)):\n",
    "    print(m3[i])"
   ]
  },
  {
   "cell_type": "code",
   "execution_count": 23,
   "id": "6a3b6067-39f6-4e5e-8731-5a73c08e875d",
   "metadata": {},
   "outputs": [
    {
     "name": "stdout",
     "output_type": "stream",
     "text": [
      "12\n",
      "124\n",
      "15215252\n",
      "235456\n",
      "2\n",
      "6\n"
     ]
    }
   ],
   "source": [
    "for i in list(range(0,len(m3),3)):\n",
    "    print(m3[i])"
   ]
  },
  {
   "cell_type": "code",
   "execution_count": 24,
   "id": "49e25435-a57d-4913-9825-52c472daa214",
   "metadata": {},
   "outputs": [],
   "source": [
    "m4=[1,2,3,45,6,7,8,]"
   ]
  },
  {
   "cell_type": "code",
   "execution_count": 25,
   "id": "658e8732-9ed7-40f1-99a6-d6508df4eeca",
   "metadata": {},
   "outputs": [
    {
     "data": {
      "text/plain": [
       "72"
      ]
     },
     "execution_count": 25,
     "metadata": {},
     "output_type": "execute_result"
    }
   ],
   "source": [
    "sum(m4)"
   ]
  },
  {
   "cell_type": "code",
   "execution_count": 26,
   "id": "a1321fd0-b33e-4b67-a949-42190640d1d7",
   "metadata": {},
   "outputs": [
    {
     "data": {
      "text/plain": [
       "72"
      ]
     },
     "execution_count": 26,
     "metadata": {},
     "output_type": "execute_result"
    }
   ],
   "source": [
    "result=0\n",
    "for i in m4:\n",
    "    result=result+i\n",
    "result"
   ]
  },
  {
   "cell_type": "code",
   "execution_count": 27,
   "id": "f640da5e-e128-4242-8ce6-ed4bde16f97a",
   "metadata": {},
   "outputs": [],
   "source": [
    "t=(91,2,3,4,5,56,2,5)"
   ]
  },
  {
   "cell_type": "code",
   "execution_count": 28,
   "id": "31931dbe-aad7-4271-a1cf-56dd52c45386",
   "metadata": {},
   "outputs": [
    {
     "data": {
      "text/plain": [
       "168"
      ]
     },
     "execution_count": 28,
     "metadata": {},
     "output_type": "execute_result"
    }
   ],
   "source": [
    "sum(t)"
   ]
  },
  {
   "cell_type": "code",
   "execution_count": 29,
   "id": "87bc37dd-7a91-4160-ba32-594a4af86da6",
   "metadata": {},
   "outputs": [
    {
     "data": {
      "text/plain": [
       "168"
      ]
     },
     "execution_count": 29,
     "metadata": {},
     "output_type": "execute_result"
    }
   ],
   "source": [
    "result =0\n",
    "for i in t:\n",
    "    result=result+i\n",
    "result"
   ]
  },
  {
   "cell_type": "code",
   "execution_count": 30,
   "id": "3dfdfa76-0bac-4b35-8b5d-37f14792ee6f",
   "metadata": {},
   "outputs": [],
   "source": [
    "s=(1,2,3,\"raju\",45.12,True,6+8j)"
   ]
  },
  {
   "cell_type": "code",
   "execution_count": 31,
   "id": "deb76ff4-b982-43aa-a934-e5883073ccbf",
   "metadata": {},
   "outputs": [
    {
     "name": "stdout",
     "output_type": "stream",
     "text": [
      "1\n",
      "2\n",
      "3\n",
      "raju\n",
      "45.12\n",
      "True\n",
      "(6+8j)\n"
     ]
    }
   ],
   "source": [
    "for i in s:\n",
    "    print(i)"
   ]
  },
  {
   "cell_type": "code",
   "execution_count": 32,
   "id": "4a614f09-96d6-4d10-94e3-d3049a9d9915",
   "metadata": {},
   "outputs": [],
   "source": [
    "s1=(\"pratap\")"
   ]
  },
  {
   "cell_type": "code",
   "execution_count": 33,
   "id": "4ec07b18-0a9c-458a-b273-083f55e436b5",
   "metadata": {},
   "outputs": [
    {
     "name": "stdout",
     "output_type": "stream",
     "text": [
      "p\n",
      "r\n",
      "a\n",
      "t\n",
      "a\n",
      "p\n"
     ]
    }
   ],
   "source": [
    "for i in s1:\n",
    "    print(i)"
   ]
  },
  {
   "cell_type": "code",
   "execution_count": 34,
   "id": "2802d428-6c0b-4703-8d90-6604411a3276",
   "metadata": {},
   "outputs": [
    {
     "ename": "TypeError",
     "evalue": "'str' object is not callable",
     "output_type": "error",
     "traceback": [
      "\u001b[0;31m---------------------------------------------------------------------------\u001b[0m",
      "\u001b[0;31mTypeError\u001b[0m                                 Traceback (most recent call last)",
      "Cell \u001b[0;32mIn[34], line 1\u001b[0m\n\u001b[0;32m----> 1\u001b[0m \u001b[38;5;28;01mfor\u001b[39;00m i \u001b[38;5;129;01min\u001b[39;00m \u001b[43ms1\u001b[49m\u001b[43m(\u001b[49m\u001b[38;5;28;43mrange\u001b[39;49m\u001b[43m(\u001b[49m\u001b[38;5;28;43mlen\u001b[39;49m\u001b[43m(\u001b[49m\u001b[43ms1\u001b[49m\u001b[43m)\u001b[49m\u001b[43m,\u001b[49m\u001b[38;5;241;43m2\u001b[39;49m\u001b[43m)\u001b[49m\u001b[43m)\u001b[49m:\n\u001b[1;32m      2\u001b[0m     \u001b[38;5;28mprint\u001b[39m(i[s1])\n",
      "\u001b[0;31mTypeError\u001b[0m: 'str' object is not callable"
     ]
    }
   ],
   "source": [
    "for i in s1(range(len(s1),2)):\n",
    "    print(i[s1])"
   ]
  },
  {
   "cell_type": "code",
   "execution_count": 36,
   "id": "2d14eb80-bfa0-4eac-ab76-28cf53ea989b",
   "metadata": {},
   "outputs": [],
   "source": [
    "d={\"name\":\"raju\",\"class\":\"data science\"}"
   ]
  },
  {
   "cell_type": "code",
   "execution_count": 37,
   "id": "584a8799-0030-45d4-9b65-2d8c637e0863",
   "metadata": {},
   "outputs": [
    {
     "data": {
      "text/plain": [
       "{'name': 'raju', 'class': 'data science'}"
      ]
     },
     "execution_count": 37,
     "metadata": {},
     "output_type": "execute_result"
    }
   ],
   "source": [
    "d"
   ]
  },
  {
   "cell_type": "code",
   "execution_count": 38,
   "id": "56cebc9f-d25e-4e46-b5b1-7bac7718d723",
   "metadata": {},
   "outputs": [
    {
     "name": "stdout",
     "output_type": "stream",
     "text": [
      "name\n",
      "class\n"
     ]
    }
   ],
   "source": [
    "for i in d :\n",
    "    print(i)"
   ]
  },
  {
   "cell_type": "code",
   "execution_count": 40,
   "id": "81234df8-66be-4891-b937-3de49eb744fe",
   "metadata": {},
   "outputs": [
    {
     "name": "stdout",
     "output_type": "stream",
     "text": [
      "raju\n",
      "data science\n"
     ]
    }
   ],
   "source": [
    "for i in d.keys():\n",
    "    print(d[i])"
   ]
  },
  {
   "cell_type": "code",
   "execution_count": 41,
   "id": "1d3897a9-c031-4034-baed-7074136c2775",
   "metadata": {},
   "outputs": [
    {
     "data": {
      "text/plain": [
       "dict_values(['raju', 'data science'])"
      ]
     },
     "execution_count": 41,
     "metadata": {},
     "output_type": "execute_result"
    }
   ],
   "source": [
    "d.values()"
   ]
  },
  {
   "cell_type": "code",
   "execution_count": 43,
   "id": "796b1293-b600-4da9-80c8-35f155cdb598",
   "metadata": {},
   "outputs": [
    {
     "name": "stdout",
     "output_type": "stream",
     "text": [
      "raju\n",
      "data science\n"
     ]
    }
   ],
   "source": [
    "for i in d.values():\n",
    "    print(i)"
   ]
  },
  {
   "cell_type": "code",
   "execution_count": 44,
   "id": "79ca4623-9dbb-4dde-819d-5ae72578481e",
   "metadata": {},
   "outputs": [
    {
     "data": {
      "text/plain": [
       "dict_items([('name', 'raju'), ('class', 'data science')])"
      ]
     },
     "execution_count": 44,
     "metadata": {},
     "output_type": "execute_result"
    }
   ],
   "source": [
    "for i in list(range(0,len(m3),2)):\n",
    "    print(m3[i])"
   ]
  },
  {
   "cell_type": "code",
   "execution_count": 45,
   "id": "c43091e2-b37b-4b5d-908b-7a3af0980ac9",
   "metadata": {},
   "outputs": [
    {
     "name": "stdout",
     "output_type": "stream",
     "text": [
      "('name', 'raju')\n",
      "('class', 'data science')\n"
     ]
    }
   ],
   "source": [
    "for i in d.items():\n",
    "    print(i)"
   ]
  },
  {
   "cell_type": "code",
   "execution_count": 1,
   "id": "1cf64881-1e9b-4130-86ea-e2bc950c0883",
   "metadata": {},
   "outputs": [
    {
     "ename": "ZeroDivisionError",
     "evalue": "division by zero",
     "output_type": "error",
     "traceback": [
      "\u001b[0;31m---------------------------------------------------------------------------\u001b[0m",
      "\u001b[0;31mZeroDivisionError\u001b[0m                         Traceback (most recent call last)",
      "Cell \u001b[0;32mIn[1], line 1\u001b[0m\n\u001b[0;32m----> 1\u001b[0m \u001b[38;5;241;43m1\u001b[39;49m\u001b[38;5;241;43m/\u001b[39;49m\u001b[38;5;28;43;01mFalse\u001b[39;49;00m\n",
      "\u001b[0;31mZeroDivisionError\u001b[0m: division by zero"
     ]
    }
   ],
   "source": [
    "1/False"
   ]
  },
  {
   "cell_type": "code",
   "execution_count": 1,
   "id": "14e0a111-3006-422a-8792-0486c76ba9ad",
   "metadata": {},
   "outputs": [],
   "source": [
    "s=\"pwskills\""
   ]
  },
  {
   "cell_type": "code",
   "execution_count": 2,
   "id": "5145d61e-5f0c-4898-9462-a7956b3a63b4",
   "metadata": {},
   "outputs": [
    {
     "data": {
      "text/plain": [
       "'p'"
      ]
     },
     "execution_count": 2,
     "metadata": {},
     "output_type": "execute_result"
    }
   ],
   "source": [
    "s[0]"
   ]
  },
  {
   "cell_type": "code",
   "execution_count": 2,
   "id": "645eb5b0-4e2b-4073-a9bb-4c8745396d2e",
   "metadata": {},
   "outputs": [
    {
     "ename": "SyntaxError",
     "evalue": "invalid syntax (2873208510.py, line 1)",
     "output_type": "error",
     "traceback": [
      "\u001b[0;36m  Cell \u001b[0;32mIn[2], line 1\u001b[0;36m\u001b[0m\n\u001b[0;31m    i=0:\u001b[0m\n\u001b[0m       ^\u001b[0m\n\u001b[0;31mSyntaxError\u001b[0m\u001b[0;31m:\u001b[0m invalid syntax\n"
     ]
    }
   ],
   "source": [
    "i=0:\n",
    "    while < 1:\n",
    "        print(\"pwskills\")\n",
    "        "
   ]
  },
  {
   "cell_type": "code",
   "execution_count": null,
   "id": "67bbf9b5-e257-41aa-9bda-236113fe2b67",
   "metadata": {},
   "outputs": [],
   "source": []
  }
 ],
 "metadata": {
  "kernelspec": {
   "display_name": "Python 3 (ipykernel)",
   "language": "python",
   "name": "python3"
  },
  "language_info": {
   "codemirror_mode": {
    "name": "ipython",
    "version": 3
   },
   "file_extension": ".py",
   "mimetype": "text/x-python",
   "name": "python",
   "nbconvert_exporter": "python",
   "pygments_lexer": "ipython3",
   "version": "3.10.8"
  }
 },
 "nbformat": 4,
 "nbformat_minor": 5
}
