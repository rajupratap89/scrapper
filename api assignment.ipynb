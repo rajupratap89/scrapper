{
 "cells": [
  {
   "cell_type": "code",
   "execution_count": null,
   "id": "34e1848d-62c2-4146-990c-65a2d086ede1",
   "metadata": {},
   "outputs": [],
   "source": [
    "Q1. What is an API? Give an example, where an API is used in real life."
   ]
  },
  {
   "cell_type": "code",
   "execution_count": null,
   "id": "a81a4b46-20b4-4c44-8fdf-94d6620eb406",
   "metadata": {},
   "outputs": [],
   "source": [
    "API stands for Application programming interface.it is set of rule and protocol one software to another software communicate each other and exchange a data.\n",
    "example of API  if we want send money through paytm first of all check receiver verify number and connect to bank exchange data."
   ]
  },
  {
   "cell_type": "code",
   "execution_count": null,
   "id": "02b18844-9d86-4ec2-bca3-56d471331429",
   "metadata": {},
   "outputs": [],
   "source": [
    "Q2. Give advantages and disadvantages of using API."
   ]
  },
  {
   "cell_type": "code",
   "execution_count": null,
   "id": "c8ee8b83-eb4a-448c-ad9e-dae22b78dffb",
   "metadata": {},
   "outputs": [],
   "source": [
    "ADVANTAGE\n",
    "1.it can easily communicate of one software to another software and quickly answer any type question if we want search on google any kind of question.\n",
    "2.api provide standard way to software communication.\n",
    "3.APIs can facilitate the scalability of applications.\n",
    "DISADVANTAGE\n",
    "1.APIs, if not properly secured, can be vulnerable to security threats .\n",
    "2.Developers have limited control over external APIs.\n",
    "3.Working with APIs can be complex, especially for beginners. "
   ]
  },
  {
   "cell_type": "code",
   "execution_count": null,
   "id": "87bc1b52-c16d-4088-8495-3712b833cdea",
   "metadata": {},
   "outputs": [],
   "source": [
    "Q3. What is a Web API? Differentiate between API and Web API."
   ]
  },
  {
   "cell_type": "code",
   "execution_count": null,
   "id": "5a76e45c-a328-4926-94a5-292571993bab",
   "metadata": {},
   "outputs": [],
   "source": [
    "A web API(application programming interface) is set and protocol communicate and interaction through one to another software and between different software system over web.web API is a protocol for interacting with web based software application.\n",
    "HTTP(hypertext transfer protocol),GET,PUT,POST,DELETE.\n",
    "\n",
    "difference between API and web API.\n",
    "API-An API is a set of rules, protocols, and tools that allows different software applications to communicate and interact with each other.\n",
    "\n",
    "webAPI-it allow to interaction different software apllication over web.it is HTTP protocol."
   ]
  },
  {
   "cell_type": "code",
   "execution_count": null,
   "id": "40945ba7-d546-41d6-a337-821b322a42b8",
   "metadata": {},
   "outputs": [],
   "source": [
    "Q4. Explain REST and SOAP Architecture. Mention shortcomings of SOAP."
   ]
  },
  {
   "cell_type": "code",
   "execution_count": null,
   "id": "3e13a4c4-f8f2-4dea-879e-e4862ab7e4fc",
   "metadata": {},
   "outputs": [],
   "source": [
    "REST stands for (REPRESENTATIONAL STRUCTURAL TRANSFER) is not standard but rather the constraints provide lightweight designing to network application.\n",
    "In REST use standard HTTP method (GET,PUT,DELETE,POST)\n",
    "\n",
    "SOAP stand for (SIMPLE OBJECT ACCESS PROTOCOL) is protocol exchnging structural information implement of web service.it is XML(extensible markup language) as a http \n",
    "work over protocol HTTP,TCP."
   ]
  },
  {
   "cell_type": "code",
   "execution_count": null,
   "id": "fedaa3e4-2fcb-400b-9db4-aecea4d40691",
   "metadata": {},
   "outputs": [],
   "source": [
    "Q5. Differentiate between REST and SOAP."
   ]
  },
  {
   "cell_type": "code",
   "execution_count": null,
   "id": "5d41b740-0266-445a-bafa-38c6169fb01c",
   "metadata": {},
   "outputs": [],
   "source": [
    "REST-HTTP(GET,PUT,POST,DELETE.It is not standard network application.\n",
    "SOAP-XML,HTTP,TCP"
   ]
  }
 ],
 "metadata": {
  "kernelspec": {
   "display_name": "Python 3 (ipykernel)",
   "language": "python",
   "name": "python3"
  },
  "language_info": {
   "codemirror_mode": {
    "name": "ipython",
    "version": 3
   },
   "file_extension": ".py",
   "mimetype": "text/x-python",
   "name": "python",
   "nbconvert_exporter": "python",
   "pygments_lexer": "ipython3",
   "version": "3.10.8"
  }
 },
 "nbformat": 4,
 "nbformat_minor": 5
}
