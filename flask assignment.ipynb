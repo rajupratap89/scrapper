{
 "cells": [
  {
   "cell_type": "code",
   "execution_count": null,
   "id": "5486ffb7-e0a6-4a37-969f-1de27ad35e9c",
   "metadata": {},
   "outputs": [],
   "source": [
    "Q1. What is Flask Framework? What are the advantages of Flask Framework?"
   ]
  },
  {
   "cell_type": "code",
   "execution_count": null,
   "id": "0b6b91ba-d8b6-4172-b08d-b66c695e8e3a",
   "metadata": {},
   "outputs": [],
   "source": [
    "Flask framework is a lightweight and versatile python web framework.it is classified into microframework because it does not require particular tool and libraries.\n",
    "\n",
    "Advanatage:\n",
    "1.simplicity\n",
    "2.flexibility\n",
    "3.modularity"
   ]
  },
  {
   "cell_type": "code",
   "execution_count": null,
   "id": "bb9d3c8e-1eec-40bc-9bd7-817d6958ae7f",
   "metadata": {},
   "outputs": [],
   "source": [
    "Q2. Create a simple Flask application to display ‘Hello World!!’. Attach the screenshot of the output in\n",
    "Jupyter Notebook."
   ]
  },
  {
   "cell_type": "markdown",
   "id": "ee8b7eac-1e24-43c7-933e-c2ed2ca835b4",
   "metadata": {},
   "source": [
    "from flask import Flask\n",
    "from flask import request\n",
    "\n",
    "app = Flask(__name__)\n",
    "\n",
    "\n",
    "\n",
    "@app.route(\"/test\")\n",
    "def test():\n",
    "  \n",
    "    return\"Hello World!!\"\n",
    "\n",
    "\n",
    "\n",
    "\n",
    "if __name__==\"__main__\":\n",
    "    app.run(host=\"0.0.0.0\")\n",
    "\"C:\\Users\\amrit\\OneDrive\\Pictures\\Saved Pictures - Copy\\Screenshots\\Screenshot 2023-10-09 213954.png\""
   ]
  },
  {
   "cell_type": "code",
   "execution_count": null,
   "id": "319bc610-42c9-494a-a610-c279557bef98",
   "metadata": {},
   "outputs": [],
   "source": [
    "Q3. What is App routing in Flask? Why do we use app routes?"
   ]
  },
  {
   "cell_type": "code",
   "execution_count": null,
   "id": "5448326f-6fac-4353-85c3-22fe104afb4b",
   "metadata": {},
   "outputs": [],
   "source": [
    "\n",
    "In Flask, an app route refers to a URL pattern that the application will respond to. It is a way to map URLs to view functions in your application.\n",
    "\n",
    "@app.route()"
   ]
  },
  {
   "cell_type": "code",
   "execution_count": null,
   "id": "a87bb929-53f6-4a49-8b56-6bf0147d533e",
   "metadata": {},
   "outputs": [],
   "source": [
    "from flask import flask\n",
    "\n",
    "\n",
    "app=Flask(__name__)\n",
    "\n",
    "@app.route(\"/test)\n",
    "def test():\n",
    "           return \"hello world\"\n"
   ]
  },
  {
   "cell_type": "code",
   "execution_count": null,
   "id": "db9f931e-1ad8-498e-8e3d-be6d69def076",
   "metadata": {},
   "outputs": [],
   "source": [
    "Q4. Create a “/welcome” route to display the welcome message “Welcome to ABC Corporation” and a “/”\n",
    "route to show the following details:\n",
    "Company Name: ABC Corporation\n",
    "Location: India\n",
    "Contact Detail: 999-999-9999"
   ]
  },
  {
   "cell_type": "code",
   "execution_count": null,
   "id": "a4929bd0-0d91-4412-888d-ac91954ce1a5",
   "metadata": {},
   "outputs": [],
   "source": [
    "Q5. What function is used in Flask for URL Building? Write a Python code to demonstrate the working of the\n",
    "url_for() function."
   ]
  },
  {
   "cell_type": "code",
   "execution_count": 1,
   "id": "db3a099d-8181-4b82-9e44-a23141548706",
   "metadata": {},
   "outputs": [
    {
     "ename": "IndentationError",
     "evalue": "expected an indented block after function definition on line 6 (1747494834.py, line 9)",
     "output_type": "error",
     "traceback": [
      "\u001b[0;36m  Cell \u001b[0;32mIn[1], line 9\u001b[0;36m\u001b[0m\n\u001b[0;31m    if __name__==\"__main__\":\u001b[0m\n\u001b[0m    ^\u001b[0m\n\u001b[0;31mIndentationError\u001b[0m\u001b[0;31m:\u001b[0m expected an indented block after function definition on line 6\n"
     ]
    }
   ],
   "source": [
    "\n",
    "from flask import flask\n",
    "\n",
    "app = Flask(__name__)\n",
    "\n",
    "@app.route(\"/test\")\n",
    "def test():\n",
    "    return\"hello world\"\n",
    "\n",
    "\n",
    "if __name__==\"__main__\":\n",
    "    app.run(host=\"0.0.0.0\")\n"
   ]
  },
  {
   "cell_type": "code",
   "execution_count": null,
   "id": "7371fb78-7ccd-4e82-845d-23f398e0b54e",
   "metadata": {},
   "outputs": [],
   "source": []
  }
 ],
 "metadata": {
  "kernelspec": {
   "display_name": "Python 3 (ipykernel)",
   "language": "python",
   "name": "python3"
  },
  "language_info": {
   "codemirror_mode": {
    "name": "ipython",
    "version": 3
   },
   "file_extension": ".py",
   "mimetype": "text/x-python",
   "name": "python",
   "nbconvert_exporter": "python",
   "pygments_lexer": "ipython3",
   "version": "3.10.8"
  }
 },
 "nbformat": 4,
 "nbformat_minor": 5
}
